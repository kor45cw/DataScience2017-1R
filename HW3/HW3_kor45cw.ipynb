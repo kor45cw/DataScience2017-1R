{
 "cells": [
  {
   "cell_type": "markdown",
   "metadata": {},
   "source": [
    "# Homework3 \n",
    "#### In this assignment, you will design, implement, and evaluate the appropriate models for given data.\n",
    "### Goal of this assignment is to help you to solve HW4. (which  takes high  proportion of grading)<br><br><i>Do your best to solve the problems below, but don't be too intence on HW3 in order not to be exhausted.</i>\n",
    "<br>\n",
    "Version 1 (2017-04-07 pm 03:00) \n",
    "\n",
    "* Datasets which included in Scikit-learn will be used.\n",
    "* Perform the steps described below selectively(i.e. on your choice) for each dataset.\n",
    ">0. Preprocess; normalization, feature selection, etc.\n",
    ">1. Model selection; characteristics of datasets need to be comprehended.\n",
    ">2. Evaluation; This step should be done properly to prevent overfitting problem.\n",
    ">3. Enhancement; parameter tuning and feature selection, etc."
   ]
  },
  {
   "cell_type": "code",
   "execution_count": 24,
   "metadata": {
    "collapsed": true
   },
   "outputs": [],
   "source": [
    "import sklearn\n",
    "from sklearn import datasets\n",
    "import numpy as np\n",
    "import pandas as pd"
   ]
  },
  {
   "cell_type": "markdown",
   "metadata": {},
   "source": [
    "## Dataset 1: Boston house-prices dataset\n",
    "\n",
    "* <h3>GOAL<br>: Predict <b>house price</b> using given features.</h3>\n",
    "* First, you need to check <b>shape of dataset</b>; # of samples, # of features"
   ]
  },
  {
   "cell_type": "code",
   "execution_count": 25,
   "metadata": {
    "collapsed": false
   },
   "outputs": [
    {
     "name": "stdout",
     "output_type": "stream",
     "text": [
      "Total samples available: 506\n",
      "Total features available: 13\n"
     ]
    }
   ],
   "source": [
    "boston = datasets.load_boston()\n",
    "#Let's check shape of dataset. How many samples and features do you received?\n",
    "n_samples = boston.data.shape[0]\n",
    "n_features = boston.data.shape[1]\n",
    "\n",
    "print \"Total samples available:\", n_samples\n",
    "print \"Total features available:\", n_features"
   ]
  },
  {
   "cell_type": "markdown",
   "metadata": {},
   "source": [
    "* You can check information of each featurea from below table.\n",
    "\n",
    "| Feature | Description |\n",
    "|-----------------|-------------------------|\n",
    "|CRIM|     per capita crime rate by town|\n",
    "|ZN       |proportion of residential land zoned for lots over 25,000 sq.ft.|\n",
    "|INDUS|    proportion of non-retail business acres per town|\n",
    "|CHAS  |   Charles River dummy variable (= 1 if tract bounds river; 0 otherwise)|\n",
    "|NOX    |  nitric oxides concentration (parts per 10 million)|\n",
    "|RM    |   average number of rooms per dwelling|\n",
    "|AGE   |   proportion of owner-occupied units built prior to 1940|\n",
    "|DIS    |  weighted distances to five Boston employment centres|\n",
    "|RAD   |   index of accessibility to radial highways|\n",
    "|TAX   |   full-value property-tax rate per one thousand dollor |\n",
    "|PTRATIO|  pupil-teacher ratio by town |\n",
    "|B      |  1000(Bk - 0.63)^2 where Bk is the proportion of blacks by town|\n",
    "|LSTAT  |  % lower status of the population|\n",
    "##### <center>Table: Feature information of Boston house-price data set</center>\n"
   ]
  },
  {
   "cell_type": "markdown",
   "metadata": {},
   "source": [
    "###  Analyze and evaluate given data.\n",
    "\n",
    "> *There are no guidelines or strict answers for this assignment.<br/>\n",
    "> <b>Try various methods to improve model performance</b>, but the reason for your choice should be attached in this report.*\n",
    "\n",
    "> \\* Be careful not to make errors such as overfitting problem.<br/>\n",
    "\n",
    "> *(As an example of \"various methods\", some irrelevant/less relevant features can be removed. It can be done by human intuition, as well as through machine learning models. a.k.a. feature selection (Step 4))*"
   ]
  },
  {
   "cell_type": "markdown",
   "metadata": {},
   "source": [
    "## Step 1: Preprocess\n",
    "- Let's apply various preprocessing operations which we learned in lecture / assignments.\n",
    "- Try best to choose correct preprocessing method for each feature types.<br/>\n",
    "\\* *hint: First, you need to know how values of each features look like.*"
   ]
  },
  {
   "cell_type": "code",
   "execution_count": 26,
   "metadata": {
    "collapsed": false
   },
   "outputs": [],
   "source": [
    "#TODO: Modify the dataset for analysis.\n",
    "\n",
    "X = boston.data\n",
    "Y = boston.target\n",
    "\n",
    "df1 = pd.DataFrame(X, columns = boston.feature_names)\n",
    "df1['target'] = Y\n",
    "\n",
    "train = df1.sample(frac=0.8, random_state = 100)\n",
    "test = df1.drop(train.index)"
   ]
  },
  {
   "cell_type": "markdown",
   "metadata": {},
   "source": [
    "## Step 2: Select appropriate model\n",
    "- Is it a <b>regression problem</b>? or a <b>classification problem</b>?\n",
    "- There are various models, most of them are *avilable as API*. (we recommend you to browse them in scikit-learn)\n",
    "- We can not decide which model will have better performance.<br/>(Although the model is limited by the size of the data and the number of samples)\n",
    "- So, list models which, you think, will perform good. (import them)"
   ]
  },
  {
   "cell_type": "code",
   "execution_count": 27,
   "metadata": {
    "collapsed": false,
    "scrolled": false
   },
   "outputs": [
    {
     "data": {
      "text/plain": [
       "LinearRegression(copy_X=True, fit_intercept=True, n_jobs=1, normalize=False)"
      ]
     },
     "execution_count": 27,
     "metadata": {},
     "output_type": "execute_result"
    }
   ],
   "source": [
    "#TODO: Import APIs which you want to use\n",
    "from sklearn.metrics import mean_squared_error\n",
    "from sklearn import linear_model\n",
    "from sklearn.preprocessing import PolynomialFeatures\n",
    "from sklearn.pipeline import make_pipeline\n",
    "from sklearn.cross_validation import train_test_split\n",
    "\n",
    "\n",
    "import matplotlib.pyplot as plt\n",
    "%matplotlib inline\n",
    "\n",
    "\n",
    "y_train = train.pop('target')\n",
    "x_train = train\n",
    "\n",
    "y_test = test.pop('target')\n",
    "x_test = test\n",
    "\n",
    "regr = linear_model.LinearRegression()\n",
    "regr.fit(x_train, y_train)"
   ]
  },
  {
   "cell_type": "markdown",
   "metadata": {},
   "source": [
    "## Step 3: Evaluation\n",
    "- Evaluate the performance each models which you <b>imported at step2</b>.\n",
    "- Please choose an evaluation method and apply it on your model. (e.g. separation of test-train set, cross validation, etc.)\n",
    "- Do you think the performance you get is enough? If not, consider how you can improve model performance and apply it on Step 4"
   ]
  },
  {
   "cell_type": "code",
   "execution_count": 28,
   "metadata": {
    "collapsed": false
   },
   "outputs": [
    {
     "data": {
      "image/png": "[encoded data removed]",
      "text/plain": [
       "<matplotlib.figure.Figure at 0x117ee5f50>"
      ]
     },
     "metadata": {},
     "output_type": "display_data"
    },
    {
     "name": "stdout",
     "output_type": "stream",
     "text": [
      "MSE - train: 21.4392008304\n",
      "MSE - test: 25.2879565486\n"
     ]
    }
   ],
   "source": [
    "#TODO: Evaluate each models. Is performance sufficient?\n",
    "def plot_2D_lr(x_data, y_data, pred=None, x_label='X', y_label='Y', title=None):\n",
    "    plt.xlabel(x_label)\n",
    "    plt.ylabel(y_label)\n",
    "    plt.scatter(x_data, y_data)\n",
    "    \n",
    "    if pred is not None:\n",
    "        plt.plot(x_data, pred, color='red', linewidth=2)\n",
    "    if title is not None:\n",
    "        plt.title(title)        \n",
    "    \n",
    "    plt.show()\n",
    "    \n",
    "predicted = regr.predict(x_test)\n",
    "\n",
    "plot_2D_lr(y_test, predicted, pred=None, x_label='real price', y_label='predicted price', title=None)\n",
    "\n",
    "print \"MSE - train: %s\" % mean_squared_error(regr.predict(x_train), y_train)\n",
    "print \"MSE - test: %s\" % mean_squared_error(predicted, y_test)"
   ]
  },
  {
   "cell_type": "markdown",
   "metadata": {},
   "source": [
    "## Step 4: Enhencement\n",
    "Advice :\n",
    "1. Try <b>feature selection</b>\n",
    "2. <b>Adjust the parameter</b> of the model\n",
    "3. Apply <b>more complex</b> model.<br/>\n",
    "(*For example it would be better to use various models and take average(\"ensemble\") rather then use just a single model.\n",
    "In fact, Random Forest, which is well known ensemble algorithm, gets result by taking average of the result of decision tree models.*)\n",
    "\n",
    "\n",
    "- You do not need to achieve state-of-the-art.\n",
    "- But you need to show a <b>reasonable performance improvement</b>.\n",
    "- Please <b>describe about your design</b> in following markdown cell. (small modifications are okay if there are reasons.)"
   ]
  },
  {
   "cell_type": "code",
   "execution_count": 29,
   "metadata": {
    "collapsed": false
   },
   "outputs": [
    {
     "name": "stdout",
     "output_type": "stream",
     "text": [
      "MSE - sklearn poly-linear regression; degree= 0 \n",
      "\ttrain:  85.133093508 ,\tval:  81.5989721103\n",
      "MSE - sklearn poly-linear regression; degree= 1 \n",
      "\ttrain:  22.7776665231 ,\tval:  19.9129049252\n",
      "MSE - sklearn poly-linear regression; degree= 2 \n",
      "\ttrain:  5.99781316934 ,\tval:  8.9760783838\n",
      "MSE - sklearn poly-linear regression; degree= 3 \n",
      "\ttrain:  7.18892358098e-15 ,\tval:  25410.9275211\n"
     ]
    }
   ],
   "source": [
    "#TODO: Try various methods to improve model performance, It is recommended to follow the previous steps[step1-3].\n",
    "x_train, x_val, y_train, y_val = train_test_split(X, Y, test_size=0.2)\n",
    "\n",
    "for deg in range(4):\n",
    "    PolynomialRegression = make_pipeline(PolynomialFeatures(deg), linear_model.LinearRegression())\n",
    "\n",
    "    plr = PolynomialRegression.fit(x_train, y_train)\n",
    "    print \"MSE - sklearn poly-linear regression; degree=\", deg,\"\\n\\ttrain: \", mean_squared_error(plr.predict(x_train), y_train), \",\\tval: \", mean_squared_error(plr.predict(x_val), y_val)\n",
    "    "
   ]
  },
  {
   "cell_type": "markdown",
   "metadata": {},
   "source": [
    "### Description about design\n",
    "> please write your description here (you can modify this cell by double click)\n",
    "\n",
    "> 첫 모델링은 LinearRegression<br> 두번째 모델링은 PolynomialRegression\n",
    "<br> 첫번째에 비해서 두번째의 MSE 가 더 작다\n",
    "<br> 또한 degree가 증가함에 따라 MSE 두번째 모델링 방법의 MSE가 점점 작아지는 것을 확인할 수 있다.\n"
   ]
  },
  {
   "cell_type": "markdown",
   "metadata": {},
   "source": [
    "## Dataset 2: Breast Cancer\n",
    "\n",
    "* <h3>GOAL</h3>: Predict <b>presence of tumor</b> using biomedical features.\n",
    "\n",
    "> Unlike the first dataset, this dataset is for binary classification problems.<br/>However, since it is made up of biomedical features, you might face some troubles when operating the feature selection.<br/>It could be quite embarrassing, but when you're actually doing data analysis, you will often face  features you do not know."
   ]
  },
  {
   "cell_type": "code",
   "execution_count": 21,
   "metadata": {
    "collapsed": false
   },
   "outputs": [
    {
     "name": "stdout",
     "output_type": "stream",
     "text": [
      "['mean radius' 'mean texture' 'mean perimeter' 'mean area'\n",
      " 'mean smoothness' 'mean compactness' 'mean concavity'\n",
      " 'mean concave points' 'mean symmetry' 'mean fractal dimension'\n",
      " 'radius error' 'texture error' 'perimeter error' 'area error'\n",
      " 'smoothness error' 'compactness error' 'concavity error'\n",
      " 'concave points error' 'symmetry error' 'fractal dimension error'\n",
      " 'worst radius' 'worst texture' 'worst perimeter' 'worst area'\n",
      " 'worst smoothness' 'worst compactness' 'worst concavity'\n",
      " 'worst concave points' 'worst symmetry' 'worst fractal dimension']\n"
     ]
    }
   ],
   "source": [
    "# Use the following code\n",
    "bc = datasets.load_breast_cancer() # classification\n",
    "print bc['feature_names'] #description for features"
   ]
  },
  {
   "cell_type": "markdown",
   "metadata": {},
   "source": [
    "## Follow the steps for Dataset 1 to design and implement an experiment on Breast Cancer dataset.\n",
    "\n",
    "> Likewise, it is <b>not necessary to show great performance</b>, but it must go through an appropriate evaluation method.<br/>\n",
    "<b>A description of the model design</b> should be accompanied."
   ]
  },
  {
   "cell_type": "code",
   "execution_count": 34,
   "metadata": {
    "collapsed": false
   },
   "outputs": [
    {
     "name": "stdout",
     "output_type": "stream",
     "text": [
      "Model Accuracy: 84.615385\n",
      "Model Accuracy: 85.964912\n"
     ]
    }
   ],
   "source": [
    "#TODO: write your code here \n",
    "# (Of course, it would be great to  have a model with good performance. \n",
    "# However, the performance will not affect the grading)\n",
    "from sklearn.linear_model import SGDClassifier\n",
    "\n",
    "X = bc.data\n",
    "Y = bc.target\n",
    "\n",
    "data = pd.DataFrame(X, columns = bc.feature_names)\n",
    "data['target'] = Y\n",
    "\n",
    "x_train, x_test, y_train, y_test = train_test_split(X,Y, test_size=0.2)\n",
    "sgd = SGDClassifier()\n",
    "sgd.fit(x_train, y_train)\n",
    "\n",
    "print \"Model Accuracy: %f\" % (100 * sgd.score(x_train, y_train))\n",
    "print \"Model Accuracy: %f\" % (100 * sgd.score(x_test, y_test))"
   ]
  },
  {
   "cell_type": "markdown",
   "metadata": {},
   "source": [
    "### Description about design\n",
    "> please write your description here (you can modify this cell by double click)\n",
    "\n",
    "> Classifier를 사용해서 모델링\n",
    "<br> Model Accurancy 를 구해봤을 때 70~80%정도의 정확도를 보여주는것을 알 수 있다."
   ]
  },
  {
   "cell_type": "code",
   "execution_count": null,
   "metadata": {
    "collapsed": true
   },
   "outputs": [],
   "source": []
  },
  {
   "cell_type": "code",
   "execution_count": null,
   "metadata": {
    "collapsed": true
   },
   "outputs": [],
   "source": []
  }
 ],
 "metadata": {
  "kernelspec": {
   "display_name": "Python 2",
   "language": "python",
   "name": "python2"
  },
  "language_info": {
   "codemirror_mode": {
    "name": "ipython",
    "version": 2
   },
   "file_extension": ".py",
   "mimetype": "text/x-python",
   "name": "python",
   "nbconvert_exporter": "python",
   "pygments_lexer": "ipython2",
   "version": "2.7.13"
  }
 },
 "nbformat": 4,
 "nbformat_minor": 2
}
