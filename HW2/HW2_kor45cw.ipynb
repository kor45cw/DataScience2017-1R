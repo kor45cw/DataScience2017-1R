{
 "cells": [
  {
   "cell_type": "markdown",
   "metadata": {},
   "source": [
    "# Homework2 \n",
    "#### In this assignment, you will learn how to pre-process data, predict values using some simple methods and evaluate the results. \n",
    "Version 3 (2017-03-26 pm 03:12)\n",
    "<br><br>Change Log\n",
    "<br>-V2-\n",
    "<br>1. Problem 2. Condition 1. :  \"int\" type =>  \"float\" type (\"Int\" type also allowed)\n",
    "<br>-V3-\n",
    "<br>1. Two cells of \"Example of calculating mean using Pandas\" are changed. Find \"#changed\" (Boundary redundant problem)\n",
    "<br>&nbsp; &nbsp; &nbsp; &nbsp; Related to this error, <b>Result Cells for Problem 2. are also changed,</b> and to avoide vague instruction, comments added.\n",
    "<br>&nbsp; &nbsp; &nbsp; &nbsp; Solve as you want, we will accept both answers(Boundary redundant problem).\n",
    "<br>2. Problem 1. Hint added. But you don't need to follow hint. As always, it's not mandatory, just a guideline"
   ]
  },
  {
   "cell_type": "code",
   "execution_count": 1,
   "metadata": {
    "collapsed": false
   },
   "outputs": [],
   "source": [
    "import pandas as pd\n",
    "import numpy as np\n",
    "import matplotlib.pyplot as plt\n",
    "%matplotlib inline\n",
    "import requests\n",
    "from bs4 import BeautifulSoup"
   ]
  },
  {
   "cell_type": "markdown",
   "metadata": {},
   "source": [
    "### Fetching data from tsv(tab-separated values)\n",
    "We will give you GDP per capita in tsv format.<br>(Gross domestic product per capita, current prices in USD; International Monetary Fund, World Economic Outlook Database, October 2016) \n",
    "<br>\n",
    "<br>What you have to do is read data from tsv, put it in pandas dataframe, manipulate data so that it is ready for analyse."
   ]
  },
  {
   "cell_type": "code",
   "execution_count": 2,
   "metadata": {
    "collapsed": false,
    "scrolled": false
   },
   "outputs": [
    {
     "data": {
      "text/html": [
       "<div>\n",
       "<table border=\"1\" class=\"dataframe\">\n",
       "  <thead>\n",
       "    <tr style=\"text-align: right;\">\n",
       "      <th></th>\n",
       "      <th>Subject Descriptor</th>\n",
       "      <th>Units</th>\n",
       "      <th>Scale</th>\n",
       "      <th>Country/Series-specific Notes</th>\n",
       "      <th>1980</th>\n",
       "      <th>1981</th>\n",
       "      <th>1982</th>\n",
       "      <th>1983</th>\n",
       "      <th>1984</th>\n",
       "      <th>1985</th>\n",
       "      <th>...</th>\n",
       "      <th>2007</th>\n",
       "      <th>2008</th>\n",
       "      <th>2009</th>\n",
       "      <th>2010</th>\n",
       "      <th>2011</th>\n",
       "      <th>2012</th>\n",
       "      <th>2013</th>\n",
       "      <th>2014</th>\n",
       "      <th>2015</th>\n",
       "      <th>Estimates Start After</th>\n",
       "    </tr>\n",
       "    <tr>\n",
       "      <th>Country</th>\n",
       "      <th></th>\n",
       "      <th></th>\n",
       "      <th></th>\n",
       "      <th></th>\n",
       "      <th></th>\n",
       "      <th></th>\n",
       "      <th></th>\n",
       "      <th></th>\n",
       "      <th></th>\n",
       "      <th></th>\n",
       "      <th></th>\n",
       "      <th></th>\n",
       "      <th></th>\n",
       "      <th></th>\n",
       "      <th></th>\n",
       "      <th></th>\n",
       "      <th></th>\n",
       "      <th></th>\n",
       "      <th></th>\n",
       "      <th></th>\n",
       "      <th></th>\n",
       "    </tr>\n",
       "  </thead>\n",
       "  <tbody>\n",
       "    <tr>\n",
       "      <th>Syria</th>\n",
       "      <td>Gross domestic product per capita, current prices</td>\n",
       "      <td>U.S. dollars</td>\n",
       "      <td>Units</td>\n",
       "      <td>See notes for:  Gross domestic product, curren...</td>\n",
       "      <td>1,421.84</td>\n",
       "      <td>1,763.34</td>\n",
       "      <td>1,784.58</td>\n",
       "      <td>1,849.43</td>\n",
       "      <td>1,839.92</td>\n",
       "      <td>1,965.14</td>\n",
       "      <td>...</td>\n",
       "      <td>2,016.05</td>\n",
       "      <td>2,557.21</td>\n",
       "      <td>2,557.27</td>\n",
       "      <td>2,806.69</td>\n",
       "      <td>n/a</td>\n",
       "      <td>n/a</td>\n",
       "      <td>n/a</td>\n",
       "      <td>n/a</td>\n",
       "      <td>n/a</td>\n",
       "      <td>2010.0</td>\n",
       "    </tr>\n",
       "    <tr>\n",
       "      <th>Luxembourg</th>\n",
       "      <td>Gross domestic product per capita, current prices</td>\n",
       "      <td>U.S. dollars</td>\n",
       "      <td>Units</td>\n",
       "      <td>See notes for:  Gross domestic product, curren...</td>\n",
       "      <td>17,831.91</td>\n",
       "      <td>15,332.10</td>\n",
       "      <td>12,580.55</td>\n",
       "      <td>12,349.05</td>\n",
       "      <td>12,096.32</td>\n",
       "      <td>12,514.15</td>\n",
       "      <td>...</td>\n",
       "      <td>105,825.34</td>\n",
       "      <td>114,522.93</td>\n",
       "      <td>102,359.18</td>\n",
       "      <td>104,459.34</td>\n",
       "      <td>114,791.14</td>\n",
       "      <td>106,730.53</td>\n",
       "      <td>115,101.44</td>\n",
       "      <td>118,208.84</td>\n",
       "      <td>102,716.56</td>\n",
       "      <td>2015.0</td>\n",
       "    </tr>\n",
       "    <tr>\n",
       "      <th>Switzerland</th>\n",
       "      <td>Gross domestic product per capita, current prices</td>\n",
       "      <td>U.S. dollars</td>\n",
       "      <td>Units</td>\n",
       "      <td>See notes for:  Gross domestic product, curren...</td>\n",
       "      <td>18,831.59</td>\n",
       "      <td>17,154.56</td>\n",
       "      <td>17,466.37</td>\n",
       "      <td>17,315.59</td>\n",
       "      <td>16,494.31</td>\n",
       "      <td>16,663.63</td>\n",
       "      <td>...</td>\n",
       "      <td>63,648.21</td>\n",
       "      <td>72,746.41</td>\n",
       "      <td>70,231.93</td>\n",
       "      <td>74,564.36</td>\n",
       "      <td>88,515.92</td>\n",
       "      <td>83,646.06</td>\n",
       "      <td>85,237.42</td>\n",
       "      <td>86,145.33</td>\n",
       "      <td>80,602.69</td>\n",
       "      <td>2015.0</td>\n",
       "    </tr>\n",
       "    <tr>\n",
       "      <th>Norway</th>\n",
       "      <td>Gross domestic product per capita, current prices</td>\n",
       "      <td>U.S. dollars</td>\n",
       "      <td>Units</td>\n",
       "      <td>See notes for:  Gross domestic product, curren...</td>\n",
       "      <td>15,748.33</td>\n",
       "      <td>15,486.75</td>\n",
       "      <td>15,197.90</td>\n",
       "      <td>14,907.06</td>\n",
       "      <td>14,974.23</td>\n",
       "      <td>15,732.94</td>\n",
       "      <td>...</td>\n",
       "      <td>84,904.37</td>\n",
       "      <td>96,499.70</td>\n",
       "      <td>79,786.85</td>\n",
       "      <td>87,309.30</td>\n",
       "      <td>100,171.70</td>\n",
       "      <td>101,169.35</td>\n",
       "      <td>102,573.67</td>\n",
       "      <td>97,066.57</td>\n",
       "      <td>74,597.99</td>\n",
       "      <td>2015.0</td>\n",
       "    </tr>\n",
       "    <tr>\n",
       "      <th>Macao SAR</th>\n",
       "      <td>Gross domestic product per capita, current prices</td>\n",
       "      <td>U.S. dollars</td>\n",
       "      <td>Units</td>\n",
       "      <td>See notes for:  Gross domestic product, curren...</td>\n",
       "      <td>n/a</td>\n",
       "      <td>n/a</td>\n",
       "      <td>n/a</td>\n",
       "      <td>n/a</td>\n",
       "      <td>n/a</td>\n",
       "      <td>n/a</td>\n",
       "      <td>...</td>\n",
       "      <td>34,083.97</td>\n",
       "      <td>38,086.69</td>\n",
       "      <td>39,615.32</td>\n",
       "      <td>50,920.89</td>\n",
       "      <td>65,870.82</td>\n",
       "      <td>73,932.69</td>\n",
       "      <td>84,854.58</td>\n",
       "      <td>87,272.58</td>\n",
       "      <td>71,394.16</td>\n",
       "      <td>2015.0</td>\n",
       "    </tr>\n",
       "  </tbody>\n",
       "</table>\n",
       "<p>5 rows × 41 columns</p>\n",
       "</div>"
      ],
      "text/plain": [
       "                                            Subject Descriptor         Units  \\\n",
       "Country                                                                        \n",
       "Syria        Gross domestic product per capita, current prices  U.S. dollars   \n",
       "Luxembourg   Gross domestic product per capita, current prices  U.S. dollars   \n",
       "Switzerland  Gross domestic product per capita, current prices  U.S. dollars   \n",
       "Norway       Gross domestic product per capita, current prices  U.S. dollars   \n",
       "Macao SAR    Gross domestic product per capita, current prices  U.S. dollars   \n",
       "\n",
       "             Scale                      Country/Series-specific Notes  \\\n",
       "Country                                                                 \n",
       "Syria        Units  See notes for:  Gross domestic product, curren...   \n",
       "Luxembourg   Units  See notes for:  Gross domestic product, curren...   \n",
       "Switzerland  Units  See notes for:  Gross domestic product, curren...   \n",
       "Norway       Units  See notes for:  Gross domestic product, curren...   \n",
       "Macao SAR    Units  See notes for:  Gross domestic product, curren...   \n",
       "\n",
       "                  1980       1981       1982       1983       1984       1985  \\\n",
       "Country                                                                         \n",
       "Syria         1,421.84   1,763.34   1,784.58   1,849.43   1,839.92   1,965.14   \n",
       "Luxembourg   17,831.91  15,332.10  12,580.55  12,349.05  12,096.32  12,514.15   \n",
       "Switzerland  18,831.59  17,154.56  17,466.37  17,315.59  16,494.31  16,663.63   \n",
       "Norway       15,748.33  15,486.75  15,197.90  14,907.06  14,974.23  15,732.94   \n",
       "Macao SAR          n/a        n/a        n/a        n/a        n/a        n/a   \n",
       "\n",
       "                     ...                 2007        2008        2009  \\\n",
       "Country              ...                                                \n",
       "Syria                ...             2,016.05    2,557.21    2,557.27   \n",
       "Luxembourg           ...           105,825.34  114,522.93  102,359.18   \n",
       "Switzerland          ...            63,648.21   72,746.41   70,231.93   \n",
       "Norway               ...            84,904.37   96,499.70   79,786.85   \n",
       "Macao SAR            ...            34,083.97   38,086.69   39,615.32   \n",
       "\n",
       "                   2010        2011        2012        2013        2014  \\\n",
       "Country                                                                   \n",
       "Syria          2,806.69         n/a         n/a         n/a         n/a   \n",
       "Luxembourg   104,459.34  114,791.14  106,730.53  115,101.44  118,208.84   \n",
       "Switzerland   74,564.36   88,515.92   83,646.06   85,237.42   86,145.33   \n",
       "Norway        87,309.30  100,171.70  101,169.35  102,573.67   97,066.57   \n",
       "Macao SAR     50,920.89   65,870.82   73,932.69   84,854.58   87,272.58   \n",
       "\n",
       "                   2015 Estimates Start After  \n",
       "Country                                        \n",
       "Syria               n/a                2010.0  \n",
       "Luxembourg   102,716.56                2015.0  \n",
       "Switzerland   80,602.69                2015.0  \n",
       "Norway        74,597.99                2015.0  \n",
       "Macao SAR     71,394.16                2015.0  \n",
       "\n",
       "[5 rows x 41 columns]"
      ]
     },
     "execution_count": 2,
     "metadata": {},
     "output_type": "execute_result"
    }
   ],
   "source": [
    "tsv = pd.read_csv('GDPperCapByTab.txt',sep='\\t',index_col=0) \n",
    "# this will let you read data from file name ~~ , and understand <tab> as delimiter\n",
    "\n",
    "tsv.head() # You can check whether data is correctly loaded in your df(;tsv) or not"
   ]
  },
  {
   "cell_type": "markdown",
   "metadata": {},
   "source": [
    "## Problem 1. \n",
    "1. Drop everything but \"name of country\" and \"data by year\".\n",
    "2. Modify data so that you can change it to float type number. (For example, u'1,421.84' can not be changed to float while \",\" exists.) 'n/a' can be changed to np.nan.\n",
    "<br><b>Hint, you can change type of whole data to float in one instuction if your data is in good format. </b>"
   ]
  },
  {
   "cell_type": "code",
   "execution_count": 3,
   "metadata": {
    "collapsed": false,
    "scrolled": false
   },
   "outputs": [],
   "source": [
    "#TODO\n",
    "tsv.drop(tsv.columns[[0, 1, 2, 3, 40]], axis=1, inplace=True)\n",
    "\n",
    "\n",
    "for columnNum in [str(num) for num in range(1980,2016)]:\n",
    "    tsv[str(columnNum)] = tsv[str(columnNum)].replace({',': ''}, regex=True)\n",
    "    tsv[str(columnNum)] = tsv[str(columnNum)].replace('n/a',np.NaN)   \n",
    "    tsv[str(columnNum)] = tsv[str(columnNum)].apply(pd.to_numeric, errors='coerce')\n",
    "    "
   ]
  },
  {
   "cell_type": "code",
   "execution_count": 4,
   "metadata": {
    "collapsed": false,
    "scrolled": true
   },
   "outputs": [
    {
     "name": "stdout",
     "output_type": "stream",
     "text": [
      "Syria 1421.84 <type 'numpy.float64'>\n"
     ]
    }
   ],
   "source": [
    "print tsv.index[0],tsv.ix[0,0], type(tsv.ix[0,0])"
   ]
  },
  {
   "cell_type": "markdown",
   "metadata": {},
   "source": [
    "### Example of calculating mean using Pandas"
   ]
  },
  {
   "cell_type": "code",
   "execution_count": 5,
   "metadata": {
    "collapsed": false
   },
   "outputs": [],
   "source": [
    "resulttsv = tsv[[str(num) for num in range(1980,1985)]] #changed"
   ]
  },
  {
   "cell_type": "markdown",
   "metadata": {},
   "source": [
    "#### In this case 1980-1985 means, 1980,1981,1982,1983,1984. (1985 excluded.)\n",
    "This is to match data with Infant Mortality Rate data column names"
   ]
  },
  {
   "cell_type": "code",
   "execution_count": 6,
   "metadata": {
    "collapsed": false,
    "scrolled": true
   },
   "outputs": [
    {
     "name": "stderr",
     "output_type": "stream",
     "text": [
      "/anaconda/lib/python2.7/site-packages/ipykernel/__main__.py:1: SettingWithCopyWarning: \n",
      "A value is trying to be set on a copy of a slice from a DataFrame.\n",
      "Try using .loc[row_indexer,col_indexer] = value instead\n",
      "\n",
      "See the caveats in the documentation: http://pandas.pydata.org/pandas-docs/stable/indexing.html#indexing-view-versus-copy\n",
      "  if __name__ == '__main__':\n"
     ]
    }
   ],
   "source": [
    "resulttsv['1980-1985']=resulttsv.mean(axis=1)\n",
    "# I think it would be okay to ignore simple warning below."
   ]
  },
  {
   "cell_type": "code",
   "execution_count": 7,
   "metadata": {
    "collapsed": false,
    "scrolled": true
   },
   "outputs": [
    {
     "data": {
      "text/html": [
       "<div>\n",
       "<table border=\"1\" class=\"dataframe\">\n",
       "  <thead>\n",
       "    <tr style=\"text-align: right;\">\n",
       "      <th></th>\n",
       "      <th>1980</th>\n",
       "      <th>1981</th>\n",
       "      <th>1982</th>\n",
       "      <th>1983</th>\n",
       "      <th>1984</th>\n",
       "      <th>1980-1985</th>\n",
       "    </tr>\n",
       "    <tr>\n",
       "      <th>Country</th>\n",
       "      <th></th>\n",
       "      <th></th>\n",
       "      <th></th>\n",
       "      <th></th>\n",
       "      <th></th>\n",
       "      <th></th>\n",
       "    </tr>\n",
       "  </thead>\n",
       "  <tbody>\n",
       "    <tr>\n",
       "      <th>Syria</th>\n",
       "      <td>1421.84</td>\n",
       "      <td>1763.34</td>\n",
       "      <td>1784.58</td>\n",
       "      <td>1849.43</td>\n",
       "      <td>1839.92</td>\n",
       "      <td>1731.822</td>\n",
       "    </tr>\n",
       "    <tr>\n",
       "      <th>Luxembourg</th>\n",
       "      <td>17831.91</td>\n",
       "      <td>15332.10</td>\n",
       "      <td>12580.55</td>\n",
       "      <td>12349.05</td>\n",
       "      <td>12096.32</td>\n",
       "      <td>14037.986</td>\n",
       "    </tr>\n",
       "    <tr>\n",
       "      <th>Switzerland</th>\n",
       "      <td>18831.59</td>\n",
       "      <td>17154.56</td>\n",
       "      <td>17466.37</td>\n",
       "      <td>17315.59</td>\n",
       "      <td>16494.31</td>\n",
       "      <td>17452.484</td>\n",
       "    </tr>\n",
       "    <tr>\n",
       "      <th>Norway</th>\n",
       "      <td>15748.33</td>\n",
       "      <td>15486.75</td>\n",
       "      <td>15197.90</td>\n",
       "      <td>14907.06</td>\n",
       "      <td>14974.23</td>\n",
       "      <td>15262.854</td>\n",
       "    </tr>\n",
       "    <tr>\n",
       "      <th>Macao SAR</th>\n",
       "      <td>NaN</td>\n",
       "      <td>NaN</td>\n",
       "      <td>NaN</td>\n",
       "      <td>NaN</td>\n",
       "      <td>NaN</td>\n",
       "      <td>NaN</td>\n",
       "    </tr>\n",
       "  </tbody>\n",
       "</table>\n",
       "</div>"
      ],
      "text/plain": [
       "                 1980      1981      1982      1983      1984  1980-1985\n",
       "Country                                                                 \n",
       "Syria         1421.84   1763.34   1784.58   1849.43   1839.92   1731.822\n",
       "Luxembourg   17831.91  15332.10  12580.55  12349.05  12096.32  14037.986\n",
       "Switzerland  18831.59  17154.56  17466.37  17315.59  16494.31  17452.484\n",
       "Norway       15748.33  15486.75  15197.90  14907.06  14974.23  15262.854\n",
       "Macao SAR         NaN       NaN       NaN       NaN       NaN        NaN"
      ]
     },
     "execution_count": 7,
     "metadata": {},
     "output_type": "execute_result"
    }
   ],
   "source": [
    "resulttsv.head()"
   ]
  },
  {
   "cell_type": "markdown",
   "metadata": {},
   "source": [
    "#### Let's drop something useless"
   ]
  },
  {
   "cell_type": "code",
   "execution_count": 8,
   "metadata": {
    "collapsed": false
   },
   "outputs": [],
   "source": [
    "resulttsv=resulttsv.drop([str(num) for num in range(1980,1985)],axis=1) #changed"
   ]
  },
  {
   "cell_type": "markdown",
   "metadata": {},
   "source": [
    "## Problem 2. Get average value by country of each 5 years from 1980 to 2015\n",
    "<b> Condition 1 : Data should be in \"float\" type (numpy.float64 or else) </b>\n",
    "<br>&nbsp; &nbsp; &nbsp; * \"Int\" type also allowed. In this case, the result of following cells will be changed (This will not affect grading)\n",
    "<br><b> Condition 2 : Dataframe should be in the form of given output (two cells below)</b>\n",
    "\n",
    "<br><b>As we mentioned above, 1980-1985 mean 1980,1981,1982,1983,1984. (1985 excluded.)</b>\n",
    "<br>This is to match data with Infant Mortality Rate data column names"
   ]
  },
  {
   "cell_type": "code",
   "execution_count": 9,
   "metadata": {
    "collapsed": false,
    "scrolled": true
   },
   "outputs": [],
   "source": [
    "#TODO\n",
    "# Think wisely! It does not require long code. \n",
    "temp1 = tsv[[str(num) for num in range(1985,1990)]]\n",
    "resulttsv['1985-1990']=temp1.mean(axis=1)\n",
    "\n",
    "temp2 = tsv[[str(num) for num in range(1990,1995)]]\n",
    "resulttsv['1990-1995']=temp2.mean(axis=1)\n",
    "\n",
    "temp3 = tsv[[str(num) for num in range(1995,2000)]]\n",
    "resulttsv['1995-2000']=temp3.mean(axis=1)\n",
    "\n",
    "temp4 = tsv[[str(num) for num in range(2000,2005)]]\n",
    "resulttsv['2000-2005']=temp4.mean(axis=1)\n",
    "\n",
    "temp5 = tsv[[str(num) for num in range(2005,2010)]]\n",
    "resulttsv['2005-2010']=temp5.mean(axis=1)\n",
    "\n",
    "temp6 = tsv[[str(num) for num in range(2010,2015)]]\n",
    "resulttsv['2010-2015']=temp6.mean(axis=1)\n"
   ]
  },
  {
   "cell_type": "code",
   "execution_count": 10,
   "metadata": {
    "collapsed": false,
    "scrolled": true
   },
   "outputs": [
    {
     "name": "stdout",
     "output_type": "stream",
     "text": [
      "Luxembourg 14037.986 <type 'numpy.float64'>\n"
     ]
    },
    {
     "data": {
      "text/html": [
       "<div>\n",
       "<table border=\"1\" class=\"dataframe\">\n",
       "  <thead>\n",
       "    <tr style=\"text-align: right;\">\n",
       "      <th></th>\n",
       "      <th>1980-1985</th>\n",
       "      <th>1985-1990</th>\n",
       "      <th>1990-1995</th>\n",
       "      <th>1995-2000</th>\n",
       "      <th>2000-2005</th>\n",
       "      <th>2005-2010</th>\n",
       "      <th>2010-2015</th>\n",
       "    </tr>\n",
       "    <tr>\n",
       "      <th>Country</th>\n",
       "      <th></th>\n",
       "      <th></th>\n",
       "      <th></th>\n",
       "      <th></th>\n",
       "      <th></th>\n",
       "      <th></th>\n",
       "      <th></th>\n",
       "    </tr>\n",
       "  </thead>\n",
       "  <tbody>\n",
       "    <tr>\n",
       "      <th>Syria</th>\n",
       "      <td>1731.822</td>\n",
       "      <td>1852.6038</td>\n",
       "      <td>995.7332</td>\n",
       "      <td>1094.294</td>\n",
       "      <td>1263.054</td>\n",
       "      <td>2073.390</td>\n",
       "      <td>2806.690</td>\n",
       "    </tr>\n",
       "    <tr>\n",
       "      <th>Luxembourg</th>\n",
       "      <td>14037.986</td>\n",
       "      <td>20919.8200</td>\n",
       "      <td>38416.5220</td>\n",
       "      <td>48373.558</td>\n",
       "      <td>58195.980</td>\n",
       "      <td>98488.898</td>\n",
       "      <td>111858.258</td>\n",
       "    </tr>\n",
       "    <tr>\n",
       "      <th>Switzerland</th>\n",
       "      <td>17452.484</td>\n",
       "      <td>26454.4740</td>\n",
       "      <td>39355.5180</td>\n",
       "      <td>43602.042</td>\n",
       "      <td>43953.436</td>\n",
       "      <td>63836.030</td>\n",
       "      <td>83621.818</td>\n",
       "    </tr>\n",
       "    <tr>\n",
       "      <th>Norway</th>\n",
       "      <td>15262.854</td>\n",
       "      <td>21086.5000</td>\n",
       "      <td>28838.4460</td>\n",
       "      <td>35918.156</td>\n",
       "      <td>45353.460</td>\n",
       "      <td>80352.928</td>\n",
       "      <td>97658.118</td>\n",
       "    </tr>\n",
       "    <tr>\n",
       "      <th>Macao SAR</th>\n",
       "      <td>NaN</td>\n",
       "      <td>NaN</td>\n",
       "      <td>NaN</td>\n",
       "      <td>NaN</td>\n",
       "      <td>18365.505</td>\n",
       "      <td>33112.298</td>\n",
       "      <td>72570.312</td>\n",
       "    </tr>\n",
       "  </tbody>\n",
       "</table>\n",
       "</div>"
      ],
      "text/plain": [
       "             1980-1985   1985-1990   1990-1995  1995-2000  2000-2005  \\\n",
       "Country                                                                \n",
       "Syria         1731.822   1852.6038    995.7332   1094.294   1263.054   \n",
       "Luxembourg   14037.986  20919.8200  38416.5220  48373.558  58195.980   \n",
       "Switzerland  17452.484  26454.4740  39355.5180  43602.042  43953.436   \n",
       "Norway       15262.854  21086.5000  28838.4460  35918.156  45353.460   \n",
       "Macao SAR          NaN         NaN         NaN        NaN  18365.505   \n",
       "\n",
       "             2005-2010   2010-2015  \n",
       "Country                             \n",
       "Syria         2073.390    2806.690  \n",
       "Luxembourg   98488.898  111858.258  \n",
       "Switzerland  63836.030   83621.818  \n",
       "Norway       80352.928   97658.118  \n",
       "Macao SAR    33112.298   72570.312  "
      ]
     },
     "execution_count": 10,
     "metadata": {},
     "output_type": "execute_result"
    }
   ],
   "source": [
    "print resulttsv.index[1],resulttsv.ix[1,0],type(resulttsv.ix[1,0])\n",
    "resulttsv.head()"
   ]
  },
  {
   "cell_type": "markdown",
   "metadata": {},
   "source": [
    "Let's check the result once again.\n",
    "<br>Always double-check to avoid mistake"
   ]
  },
  {
   "cell_type": "code",
   "execution_count": 11,
   "metadata": {
    "collapsed": false
   },
   "outputs": [
    {
     "data": {
      "text/html": [
       "<div>\n",
       "<table border=\"1\" class=\"dataframe\">\n",
       "  <thead>\n",
       "    <tr style=\"text-align: right;\">\n",
       "      <th></th>\n",
       "      <th>1980-1985</th>\n",
       "      <th>1985-1990</th>\n",
       "      <th>1990-1995</th>\n",
       "      <th>1995-2000</th>\n",
       "      <th>2000-2005</th>\n",
       "      <th>2005-2010</th>\n",
       "      <th>2010-2015</th>\n",
       "    </tr>\n",
       "  </thead>\n",
       "  <tbody>\n",
       "    <tr>\n",
       "      <th>count</th>\n",
       "      <td>140.000000</td>\n",
       "      <td>142.000000</td>\n",
       "      <td>171.000000</td>\n",
       "      <td>180.000000</td>\n",
       "      <td>189.000000</td>\n",
       "      <td>189.000000</td>\n",
       "      <td>190.000000</td>\n",
       "    </tr>\n",
       "    <tr>\n",
       "      <th>mean</th>\n",
       "      <td>3819.094242</td>\n",
       "      <td>4528.536742</td>\n",
       "      <td>5486.601236</td>\n",
       "      <td>6484.025077</td>\n",
       "      <td>7626.981967</td>\n",
       "      <td>11935.494029</td>\n",
       "      <td>14220.621295</td>\n",
       "    </tr>\n",
       "    <tr>\n",
       "      <th>std</th>\n",
       "      <td>5403.238537</td>\n",
       "      <td>6077.691042</td>\n",
       "      <td>8392.242731</td>\n",
       "      <td>9736.584106</td>\n",
       "      <td>11726.745167</td>\n",
       "      <td>17490.596740</td>\n",
       "      <td>20062.784791</td>\n",
       "    </tr>\n",
       "    <tr>\n",
       "      <th>min</th>\n",
       "      <td>152.145400</td>\n",
       "      <td>32.696500</td>\n",
       "      <td>107.396667</td>\n",
       "      <td>144.477800</td>\n",
       "      <td>123.361000</td>\n",
       "      <td>181.807200</td>\n",
       "      <td>275.023600</td>\n",
       "    </tr>\n",
       "    <tr>\n",
       "      <th>25%</th>\n",
       "      <td>545.765700</td>\n",
       "      <td>541.618200</td>\n",
       "      <td>501.979200</td>\n",
       "      <td>620.251700</td>\n",
       "      <td>700.224400</td>\n",
       "      <td>1076.330200</td>\n",
       "      <td>1682.143500</td>\n",
       "    </tr>\n",
       "    <tr>\n",
       "      <th>50%</th>\n",
       "      <td>1447.526000</td>\n",
       "      <td>1629.800000</td>\n",
       "      <td>1406.734000</td>\n",
       "      <td>2041.208000</td>\n",
       "      <td>2237.720000</td>\n",
       "      <td>3893.222000</td>\n",
       "      <td>5728.612000</td>\n",
       "    </tr>\n",
       "    <tr>\n",
       "      <th>75%</th>\n",
       "      <td>5097.015500</td>\n",
       "      <td>6241.717500</td>\n",
       "      <td>5948.661000</td>\n",
       "      <td>7012.935500</td>\n",
       "      <td>8198.314000</td>\n",
       "      <td>14475.662000</td>\n",
       "      <td>15562.978500</td>\n",
       "    </tr>\n",
       "    <tr>\n",
       "      <th>max</th>\n",
       "      <td>35480.062000</td>\n",
       "      <td>26454.474000</td>\n",
       "      <td>39355.518000</td>\n",
       "      <td>48373.558000</td>\n",
       "      <td>64192.280000</td>\n",
       "      <td>98488.898000</td>\n",
       "      <td>111858.258000</td>\n",
       "    </tr>\n",
       "  </tbody>\n",
       "</table>\n",
       "</div>"
      ],
      "text/plain": [
       "          1980-1985     1985-1990     1990-1995     1995-2000     2000-2005  \\\n",
       "count    140.000000    142.000000    171.000000    180.000000    189.000000   \n",
       "mean    3819.094242   4528.536742   5486.601236   6484.025077   7626.981967   \n",
       "std     5403.238537   6077.691042   8392.242731   9736.584106  11726.745167   \n",
       "min      152.145400     32.696500    107.396667    144.477800    123.361000   \n",
       "25%      545.765700    541.618200    501.979200    620.251700    700.224400   \n",
       "50%     1447.526000   1629.800000   1406.734000   2041.208000   2237.720000   \n",
       "75%     5097.015500   6241.717500   5948.661000   7012.935500   8198.314000   \n",
       "max    35480.062000  26454.474000  39355.518000  48373.558000  64192.280000   \n",
       "\n",
       "          2005-2010      2010-2015  \n",
       "count    189.000000     190.000000  \n",
       "mean   11935.494029   14220.621295  \n",
       "std    17490.596740   20062.784791  \n",
       "min      181.807200     275.023600  \n",
       "25%     1076.330200    1682.143500  \n",
       "50%     3893.222000    5728.612000  \n",
       "75%    14475.662000   15562.978500  \n",
       "max    98488.898000  111858.258000  "
      ]
     },
     "execution_count": 11,
     "metadata": {},
     "output_type": "execute_result"
    }
   ],
   "source": [
    "resulttsv.describe()"
   ]
  },
  {
   "cell_type": "code",
   "execution_count": 12,
   "metadata": {
    "collapsed": false,
    "scrolled": true
   },
   "outputs": [
    {
     "data": {
      "text/plain": [
       "Index([u'1980-1985', u'1985-1990', u'1990-1995', u'1995-2000', u'2000-2005',\n",
       "       u'2005-2010', u'2010-2015'],\n",
       "      dtype='object')"
      ]
     },
     "execution_count": 12,
     "metadata": {},
     "output_type": "execute_result"
    }
   ],
   "source": [
    "resulttsv.columns"
   ]
  },
  {
   "cell_type": "markdown",
   "metadata": {},
   "source": [
    "# Get Infant Mortality Rate"
   ]
  },
  {
   "cell_type": "markdown",
   "metadata": {},
   "source": [
    "## Problem 3. Pre-process data.\n",
    "Do the almost same process as we did above :)"
   ]
  },
  {
   "cell_type": "markdown",
   "metadata": {},
   "source": [
    "## Problem 3-1."
   ]
  },
  {
   "cell_type": "code",
   "execution_count": 13,
   "metadata": {
    "collapsed": false
   },
   "outputs": [
    {
     "data": {
      "text/html": [
       "<div>\n",
       "<table border=\"1\" class=\"dataframe\">\n",
       "  <thead>\n",
       "    <tr style=\"text-align: right;\">\n",
       "      <th></th>\n",
       "      <th>1950-1955</th>\n",
       "      <th>1955-1960</th>\n",
       "      <th>1960-1965</th>\n",
       "      <th>1965-1970</th>\n",
       "      <th>1970-1975</th>\n",
       "      <th>1975-1980</th>\n",
       "      <th>1980-1985</th>\n",
       "      <th>1985-1990</th>\n",
       "      <th>1990-1995</th>\n",
       "      <th>1995-2000</th>\n",
       "      <th>2000-2005</th>\n",
       "      <th>2005-2010</th>\n",
       "      <th>2010-2015</th>\n",
       "    </tr>\n",
       "  </thead>\n",
       "  <tbody>\n",
       "    <tr>\n",
       "      <th>Afghanistan</th>\n",
       "      <td>280.98</td>\n",
       "      <td>256.27</td>\n",
       "      <td>234.26</td>\n",
       "      <td>216.07</td>\n",
       "      <td>198.77</td>\n",
       "      <td>180.32</td>\n",
       "      <td>159.16</td>\n",
       "      <td>134.14</td>\n",
       "      <td>111.31</td>\n",
       "      <td>98.68</td>\n",
       "      <td>89.53</td>\n",
       "      <td>79.51</td>\n",
       "      <td>71.12</td>\n",
       "    </tr>\n",
       "    <tr>\n",
       "      <th>Albania</th>\n",
       "      <td>144.92</td>\n",
       "      <td>124.94</td>\n",
       "      <td>98.95</td>\n",
       "      <td>76.97</td>\n",
       "      <td>57.99</td>\n",
       "      <td>46.85</td>\n",
       "      <td>43.20</td>\n",
       "      <td>37.84</td>\n",
       "      <td>30.74</td>\n",
       "      <td>26.30</td>\n",
       "      <td>20.25</td>\n",
       "      <td>16.11</td>\n",
       "      <td>14.42</td>\n",
       "    </tr>\n",
       "    <tr>\n",
       "      <th>Algeria</th>\n",
       "      <td>163.06</td>\n",
       "      <td>153.57</td>\n",
       "      <td>142.88</td>\n",
       "      <td>132.35</td>\n",
       "      <td>122.25</td>\n",
       "      <td>105.50</td>\n",
       "      <td>75.37</td>\n",
       "      <td>55.38</td>\n",
       "      <td>47.67</td>\n",
       "      <td>41.92</td>\n",
       "      <td>37.45</td>\n",
       "      <td>34.18</td>\n",
       "      <td>30.28</td>\n",
       "    </tr>\n",
       "    <tr>\n",
       "      <th>Angola</th>\n",
       "      <td>230.82</td>\n",
       "      <td>215.04</td>\n",
       "      <td>200.16</td>\n",
       "      <td>186.20</td>\n",
       "      <td>173.03</td>\n",
       "      <td>160.95</td>\n",
       "      <td>157.11</td>\n",
       "      <td>153.18</td>\n",
       "      <td>150.66</td>\n",
       "      <td>138.01</td>\n",
       "      <td>116.05</td>\n",
       "      <td>104.35</td>\n",
       "      <td>96.22</td>\n",
       "    </tr>\n",
       "    <tr>\n",
       "      <th>Argentina</th>\n",
       "      <td>63.93</td>\n",
       "      <td>58.80</td>\n",
       "      <td>59.76</td>\n",
       "      <td>57.41</td>\n",
       "      <td>48.12</td>\n",
       "      <td>39.08</td>\n",
       "      <td>32.20</td>\n",
       "      <td>27.13</td>\n",
       "      <td>24.36</td>\n",
       "      <td>21.85</td>\n",
       "      <td>15.04</td>\n",
       "      <td>14.61</td>\n",
       "      <td>13.69</td>\n",
       "    </tr>\n",
       "  </tbody>\n",
       "</table>\n",
       "</div>"
      ],
      "text/plain": [
       "             1950-1955  1955-1960  1960-1965  1965-1970  1970-1975  1975-1980  \\\n",
       "Afghanistan     280.98     256.27     234.26     216.07     198.77     180.32   \n",
       "Albania         144.92     124.94      98.95      76.97      57.99      46.85   \n",
       "Algeria         163.06     153.57     142.88     132.35     122.25     105.50   \n",
       "Angola          230.82     215.04     200.16     186.20     173.03     160.95   \n",
       "Argentina        63.93      58.80      59.76      57.41      48.12      39.08   \n",
       "\n",
       "             1980-1985  1985-1990  1990-1995  1995-2000  2000-2005  2005-2010  \\\n",
       "Afghanistan     159.16     134.14     111.31      98.68      89.53      79.51   \n",
       "Albania          43.20      37.84      30.74      26.30      20.25      16.11   \n",
       "Algeria          75.37      55.38      47.67      41.92      37.45      34.18   \n",
       "Angola          157.11     153.18     150.66     138.01     116.05     104.35   \n",
       "Argentina        32.20      27.13      24.36      21.85      15.04      14.61   \n",
       "\n",
       "             2010-2015  \n",
       "Afghanistan      71.12  \n",
       "Albania          14.42  \n",
       "Algeria          30.28  \n",
       "Angola           96.22  \n",
       "Argentina        13.69  "
      ]
     },
     "execution_count": 13,
     "metadata": {},
     "output_type": "execute_result"
    }
   ],
   "source": [
    "IMtsv = pd.read_csv('InfantMortalityByTab.txt',sep='\\t',index_col=0) #TODO InfantMortalityByTab\n",
    "IMtsv.head()"
   ]
  },
  {
   "cell_type": "markdown",
   "metadata": {},
   "source": [
    "## Problem 3-2.\n",
    "<b>We need data from 1980-2015</b>\n",
    "<br><b>Drop data which is not necessary</b>"
   ]
  },
  {
   "cell_type": "code",
   "execution_count": 14,
   "metadata": {
    "collapsed": false,
    "scrolled": false
   },
   "outputs": [
    {
     "data": {
      "text/html": [
       "<div>\n",
       "<table border=\"1\" class=\"dataframe\">\n",
       "  <thead>\n",
       "    <tr style=\"text-align: right;\">\n",
       "      <th></th>\n",
       "      <th>1980-1985</th>\n",
       "      <th>1985-1990</th>\n",
       "      <th>1990-1995</th>\n",
       "      <th>1995-2000</th>\n",
       "      <th>2000-2005</th>\n",
       "      <th>2005-2010</th>\n",
       "      <th>2010-2015</th>\n",
       "    </tr>\n",
       "  </thead>\n",
       "  <tbody>\n",
       "    <tr>\n",
       "      <th>Afghanistan</th>\n",
       "      <td>159.16</td>\n",
       "      <td>134.14</td>\n",
       "      <td>111.31</td>\n",
       "      <td>98.68</td>\n",
       "      <td>89.53</td>\n",
       "      <td>79.51</td>\n",
       "      <td>71.12</td>\n",
       "    </tr>\n",
       "    <tr>\n",
       "      <th>Albania</th>\n",
       "      <td>43.20</td>\n",
       "      <td>37.84</td>\n",
       "      <td>30.74</td>\n",
       "      <td>26.30</td>\n",
       "      <td>20.25</td>\n",
       "      <td>16.11</td>\n",
       "      <td>14.42</td>\n",
       "    </tr>\n",
       "    <tr>\n",
       "      <th>Algeria</th>\n",
       "      <td>75.37</td>\n",
       "      <td>55.38</td>\n",
       "      <td>47.67</td>\n",
       "      <td>41.92</td>\n",
       "      <td>37.45</td>\n",
       "      <td>34.18</td>\n",
       "      <td>30.28</td>\n",
       "    </tr>\n",
       "    <tr>\n",
       "      <th>Angola</th>\n",
       "      <td>157.11</td>\n",
       "      <td>153.18</td>\n",
       "      <td>150.66</td>\n",
       "      <td>138.01</td>\n",
       "      <td>116.05</td>\n",
       "      <td>104.35</td>\n",
       "      <td>96.22</td>\n",
       "    </tr>\n",
       "    <tr>\n",
       "      <th>Argentina</th>\n",
       "      <td>32.20</td>\n",
       "      <td>27.13</td>\n",
       "      <td>24.36</td>\n",
       "      <td>21.85</td>\n",
       "      <td>15.04</td>\n",
       "      <td>14.61</td>\n",
       "      <td>13.69</td>\n",
       "    </tr>\n",
       "  </tbody>\n",
       "</table>\n",
       "</div>"
      ],
      "text/plain": [
       "             1980-1985  1985-1990  1990-1995  1995-2000  2000-2005  2005-2010  \\\n",
       "Afghanistan     159.16     134.14     111.31      98.68      89.53      79.51   \n",
       "Albania          43.20      37.84      30.74      26.30      20.25      16.11   \n",
       "Algeria          75.37      55.38      47.67      41.92      37.45      34.18   \n",
       "Angola          157.11     153.18     150.66     138.01     116.05     104.35   \n",
       "Argentina        32.20      27.13      24.36      21.85      15.04      14.61   \n",
       "\n",
       "             2010-2015  \n",
       "Afghanistan      71.12  \n",
       "Albania          14.42  \n",
       "Algeria          30.28  \n",
       "Angola           96.22  \n",
       "Argentina        13.69  "
      ]
     },
     "execution_count": 14,
     "metadata": {},
     "output_type": "execute_result"
    }
   ],
   "source": [
    "DroppedIMtsv = IMtsv.drop(IMtsv.columns[[0, 1, 2, 3, 4, 5]], axis=1)\n",
    "\n",
    "for years in DroppedIMtsv.columns:\n",
    "    DroppedIMtsv[years] = DroppedIMtsv[years].replace('n/a',np.NaN)\n",
    "    DroppedIMtsv[years] = DroppedIMtsv[years].apply(pd.to_numeric, errors='coerce')\n",
    "    \n",
    "DroppedIMtsv.head()"
   ]
  },
  {
   "cell_type": "code",
   "execution_count": 15,
   "metadata": {
    "collapsed": false
   },
   "outputs": [
    {
     "name": "stdout",
     "output_type": "stream",
     "text": [
      "<type 'numpy.float64'>\n"
     ]
    },
    {
     "data": {
      "text/html": [
       "<div>\n",
       "<table border=\"1\" class=\"dataframe\">\n",
       "  <thead>\n",
       "    <tr style=\"text-align: right;\">\n",
       "      <th></th>\n",
       "      <th>1980-1985</th>\n",
       "      <th>1985-1990</th>\n",
       "      <th>1990-1995</th>\n",
       "      <th>1995-2000</th>\n",
       "      <th>2000-2005</th>\n",
       "      <th>2005-2010</th>\n",
       "      <th>2010-2015</th>\n",
       "    </tr>\n",
       "  </thead>\n",
       "  <tbody>\n",
       "    <tr>\n",
       "      <th>count</th>\n",
       "      <td>175.000000</td>\n",
       "      <td>175.000000</td>\n",
       "      <td>175.000000</td>\n",
       "      <td>175.000000</td>\n",
       "      <td>175.000000</td>\n",
       "      <td>175.000000</td>\n",
       "      <td>175.000000</td>\n",
       "    </tr>\n",
       "    <tr>\n",
       "      <th>mean</th>\n",
       "      <td>63.491886</td>\n",
       "      <td>56.118971</td>\n",
       "      <td>51.617486</td>\n",
       "      <td>44.663029</td>\n",
       "      <td>38.529314</td>\n",
       "      <td>32.838629</td>\n",
       "      <td>28.074457</td>\n",
       "    </tr>\n",
       "    <tr>\n",
       "      <th>std</th>\n",
       "      <td>45.211616</td>\n",
       "      <td>42.409398</td>\n",
       "      <td>43.941457</td>\n",
       "      <td>36.962890</td>\n",
       "      <td>32.983143</td>\n",
       "      <td>28.707458</td>\n",
       "      <td>25.063410</td>\n",
       "    </tr>\n",
       "    <tr>\n",
       "      <th>min</th>\n",
       "      <td>6.400000</td>\n",
       "      <td>4.960000</td>\n",
       "      <td>4.440000</td>\n",
       "      <td>3.640000</td>\n",
       "      <td>2.500000</td>\n",
       "      <td>2.010000</td>\n",
       "      <td>1.580000</td>\n",
       "    </tr>\n",
       "    <tr>\n",
       "      <th>25%</th>\n",
       "      <td>22.445000</td>\n",
       "      <td>17.470000</td>\n",
       "      <td>15.950000</td>\n",
       "      <td>11.880000</td>\n",
       "      <td>9.500000</td>\n",
       "      <td>7.750000</td>\n",
       "      <td>6.625000</td>\n",
       "    </tr>\n",
       "    <tr>\n",
       "      <th>50%</th>\n",
       "      <td>52.530000</td>\n",
       "      <td>44.020000</td>\n",
       "      <td>40.460000</td>\n",
       "      <td>33.590000</td>\n",
       "      <td>27.000000</td>\n",
       "      <td>22.410000</td>\n",
       "      <td>19.320000</td>\n",
       "    </tr>\n",
       "    <tr>\n",
       "      <th>75%</th>\n",
       "      <td>96.535000</td>\n",
       "      <td>86.595000</td>\n",
       "      <td>79.700000</td>\n",
       "      <td>72.175000</td>\n",
       "      <td>61.180000</td>\n",
       "      <td>52.235000</td>\n",
       "      <td>46.480000</td>\n",
       "    </tr>\n",
       "    <tr>\n",
       "      <th>max</th>\n",
       "      <td>183.650000</td>\n",
       "      <td>157.780000</td>\n",
       "      <td>288.710000</td>\n",
       "      <td>148.920000</td>\n",
       "      <td>134.930000</td>\n",
       "      <td>116.970000</td>\n",
       "      <td>96.220000</td>\n",
       "    </tr>\n",
       "  </tbody>\n",
       "</table>\n",
       "</div>"
      ],
      "text/plain": [
       "        1980-1985   1985-1990   1990-1995   1995-2000   2000-2005   2005-2010  \\\n",
       "count  175.000000  175.000000  175.000000  175.000000  175.000000  175.000000   \n",
       "mean    63.491886   56.118971   51.617486   44.663029   38.529314   32.838629   \n",
       "std     45.211616   42.409398   43.941457   36.962890   32.983143   28.707458   \n",
       "min      6.400000    4.960000    4.440000    3.640000    2.500000    2.010000   \n",
       "25%     22.445000   17.470000   15.950000   11.880000    9.500000    7.750000   \n",
       "50%     52.530000   44.020000   40.460000   33.590000   27.000000   22.410000   \n",
       "75%     96.535000   86.595000   79.700000   72.175000   61.180000   52.235000   \n",
       "max    183.650000  157.780000  288.710000  148.920000  134.930000  116.970000   \n",
       "\n",
       "        2010-2015  \n",
       "count  175.000000  \n",
       "mean    28.074457  \n",
       "std     25.063410  \n",
       "min      1.580000  \n",
       "25%      6.625000  \n",
       "50%     19.320000  \n",
       "75%     46.480000  \n",
       "max     96.220000  "
      ]
     },
     "execution_count": 15,
     "metadata": {},
     "output_type": "execute_result"
    }
   ],
   "source": [
    "print type(DroppedIMtsv.ix[0,0])\n",
    "DroppedIMtsv.describe()"
   ]
  },
  {
   "cell_type": "markdown",
   "metadata": {
    "collapsed": true
   },
   "source": [
    "# Draw data as a plot\n",
    "\n",
    "## Problem 4-1. Define a function to draw catter plot which contained trendline.\n",
    "#### use .scatter from matplotlib library.\n",
    "- please print *<b>line equation</b>* and *<b>MSE(mean squared error)</b>* for each plots\n",
    "- matplotlib.pyplot.scatter: http://matplotlib.org/api/pyplot_api.html?highlight=scatter#matplotlib.pyplot.scatter\n",
    "- you can find example of trendline on matplotlib very easily."
   ]
  },
  {
   "cell_type": "code",
   "execution_count": 16,
   "metadata": {
    "collapsed": false
   },
   "outputs": [
    {
     "name": "stdout",
     "output_type": "stream",
     "text": [
      "y=0.110457x+(449.446644)\n",
      "MeanSquaredError:  80154.3971289\n"
     ]
    },
    {
     "data": {
      "image/png": "[encoded data removed]",
      "text/plain": [
       "<matplotlib.figure.Figure at 0x10660f490>"
      ]
     },
     "metadata": {},
     "output_type": "display_data"
    }
   ],
   "source": [
    "def plot_2D_trendline(x_data, y_data, pred=None, x_label='X', y_label='Y', title=None):\n",
    "    plt.xlabel(x_label)\n",
    "    plt.ylabel(y_label)\n",
    "    plt.scatter(x_data, y_data)\n",
    "    \n",
    "\n",
    "    if pred is not None:\n",
    "        plt.plot(x_data, pred, color='red', linewidth=2)\n",
    "    if title is not None:\n",
    "        plt.title(title)\n",
    "    \n",
    "    # the line equation:\n",
    "\n",
    "    #TODO\n",
    "    z = np.polyfit(x_data, y_data, 1)\n",
    "    p = np.poly1d(z)\n",
    "    plt.plot(x_data, p(x_data),\"r--\")\n",
    "    print \"y=%.6fx+(%.6f)\"%(z[0],z[1])\n",
    "    \n",
    "    #print Mean Squared Error\n",
    "    mse = np.mean((p(x_data) - y_data) ** 2)\n",
    "    print \"MeanSquaredError: \",mse\n",
    "    \n",
    "    plt.show()\n",
    "\n",
    "# Let's see if the function works.\n",
    "plot_2D_trendline(np.random.randint(1000,size=100),np.random.randint(1000,size=100))    \n"
   ]
  },
  {
   "cell_type": "markdown",
   "metadata": {},
   "source": [
    "## Problem 4-2. Draw scatter plot and trendline by using infant mortality rate and GDP per capita\n",
    "- x-axis: *GDP per cap*, y-axis: *infant mortality*\n",
    "- one plot per 5-year period (total 7 plots)\n",
    "- The trend line may seem somewhat meaningless, but it isn't problem now."
   ]
  },
  {
   "cell_type": "code",
   "execution_count": 17,
   "metadata": {
    "collapsed": false,
    "scrolled": true
   },
   "outputs": [
    {
     "name": "stdout",
     "output_type": "stream",
     "text": [
      "y=-0.004467x+(79.795520)\n",
      "MeanSquaredError:  1295.08362133\n"
     ]
    },
    {
     "data": {
      "image/png": "[encoded data removed]",
      "text/plain": [
       "<matplotlib.figure.Figure at 0x10f7f6050>"
      ]
     },
     "metadata": {},
     "output_type": "display_data"
    },
    {
     "name": "stdout",
     "output_type": "stream",
     "text": [
      "y=-0.004280x+(75.134272)\n",
      "MeanSquaredError:  1038.2871104\n"
     ]
    },
    {
     "data": {
      "image/png": "[encoded data removed]",
      "text/plain": [
       "<matplotlib.figure.Figure at 0x10f465b90>"
      ]
     },
     "metadata": {},
     "output_type": "display_data"
    },
    {
     "name": "stdout",
     "output_type": "stream",
     "text": [
      "y=-0.002717x+(66.470747)\n",
      "MeanSquaredError:  1348.3474651\n"
     ]
    },
    {
     "data": {
      "image/png": "[encoded data removed]",
      "text/plain": [
       "<matplotlib.figure.Figure at 0x112e2c410>"
      ]
     },
     "metadata": {},
     "output_type": "display_data"
    },
    {
     "name": "stdout",
     "output_type": "stream",
     "text": [
      "y=-0.002061x+(56.933848)\n",
      "MeanSquaredError:  883.535277015\n"
     ]
    },
    {
     "data": {
      "image/png": "[encoded data removed]",
      "text/plain": [
       "<matplotlib.figure.Figure at 0x112ca3f10>"
      ]
     },
     "metadata": {},
     "output_type": "display_data"
    },
    {
     "name": "stdout",
     "output_type": "stream",
     "text": [
      "y=-0.001587x+(49.877590)\n",
      "MeanSquaredError:  742.029427374\n"
     ]
    },
    {
     "data": {
      "image/png": "[encoded data removed]",
      "text/plain": [
       "<matplotlib.figure.Figure at 0x112f53710>"
      ]
     },
     "metadata": {},
     "output_type": "display_data"
    },
    {
     "name": "stdout",
     "output_type": "stream",
     "text": [
      "y=-0.000886x+(42.974818)\n",
      "MeanSquaredError:  569.271857088\n"
     ]
    },
    {
     "data": {
      "image/png": "[encoded data removed]",
      "text/plain": [
       "<matplotlib.figure.Figure at 0x112f113d0>"
      ]
     },
     "metadata": {},
     "output_type": "display_data"
    },
    {
     "name": "stdout",
     "output_type": "stream",
     "text": [
      "y=-0.000666x+(37.537413)\n",
      "MeanSquaredError:  449.286688019\n"
     ]
    },
    {
     "data": {
      "image/png": "[encoded data removed]",
      "text/plain": [
       "<matplotlib.figure.Figure at 0x1132efcd0>"
      ]
     },
     "metadata": {},
     "output_type": "display_data"
    }
   ],
   "source": [
    "for years in DroppedIMtsv.columns:\n",
    "    xData=[]\n",
    "    yData=[]\n",
    "\n",
    "    #TODO\n",
    "#     result = pd.concat([DroppedIMtsv, resulttsv], axis=1, join='inner')\n",
    "#     result[years].head()\n",
    "    \n",
    "    for rowName in DroppedIMtsv.index:\n",
    "        if rowName in resulttsv.index:\n",
    "            if not np.isnan(DroppedIMtsv.get_value(rowName, years)):\n",
    "                if not np.isnan(resulttsv.get_value(rowName, years)):\n",
    "                    xData.append(resulttsv.get_value(rowName, years))\n",
    "                    yData.append(DroppedIMtsv.get_value(rowName, years))\n",
    "                    \n",
    "    xData = np.array(xData)\n",
    "    yData = np.array(yData)\n",
    "    plot_2D_trendline(xData, yData, x_label='GDP per Cap', y_label='Infant Mortality', title=years)\n"
   ]
  },
  {
   "cell_type": "markdown",
   "metadata": {},
   "source": [
    "## Problem 4-3. Let's make trend line meaningful.\n",
    "- As mentioned, the trend line is somewhat meaningless.\n",
    "- By applying a *<b>logarithmic scale</b>* on the data, you can make trendlines more meaningful.\n",
    "<br/>    ** hint: Most of mathmetical functions in python can be found in numpy.*"
   ]
  },
  {
   "cell_type": "code",
   "execution_count": 18,
   "metadata": {
    "collapsed": false,
    "scrolled": true
   },
   "outputs": [
    {
     "name": "stdout",
     "output_type": "stream",
     "text": [
      "y=-0.558583x+(3.437674)\n",
      "MeanSquaredError:  0.0537986431779\n"
     ]
    },
    {
     "data": {
      "image/png": "[encoded data removed]",
      "text/plain": [
       "<matplotlib.figure.Figure at 0x1134184d0>"
      ]
     },
     "metadata": {},
     "output_type": "display_data"
    },
    {
     "name": "stdout",
     "output_type": "stream",
     "text": [
      "y=-0.582474x+(3.460723)\n",
      "MeanSquaredError:  0.0408939723817\n"
     ]
    },
    {
     "data": {
      "image/png": "[encoded data removed]",
      "text/plain": [
       "<matplotlib.figure.Figure at 0x11354bc50>"
      ]
     },
     "metadata": {},
     "output_type": "display_data"
    },
    {
     "name": "stdout",
     "output_type": "stream",
     "text": [
      "y=-0.543781x+(3.282149)\n",
      "MeanSquaredError:  0.0520151176885\n"
     ]
    },
    {
     "data": {
      "image/png": "[encoded data removed]",
      "text/plain": [
       "<matplotlib.figure.Figure at 0x1136f4fd0>"
      ]
     },
     "metadata": {},
     "output_type": "display_data"
    },
    {
     "name": "stdout",
     "output_type": "stream",
     "text": [
      "y=-0.603418x+(3.444541)\n",
      "MeanSquaredError:  0.0420481553372\n"
     ]
    },
    {
     "data": {
      "image/png": "[encoded data removed]",
      "text/plain": [
       "<matplotlib.figure.Figure at 0x1135202d0>"
      ]
     },
     "metadata": {},
     "output_type": "display_data"
    },
    {
     "name": "stdout",
     "output_type": "stream",
     "text": [
      "y=-0.598712x+(3.380214)\n",
      "MeanSquaredError:  0.0463010709825\n"
     ]
    },
    {
     "data": {
      "image/png": "[encoded data removed]",
      "text/plain": [
       "<matplotlib.figure.Figure at 0x113305f90>"
      ]
     },
     "metadata": {},
     "output_type": "display_data"
    },
    {
     "name": "stdout",
     "output_type": "stream",
     "text": [
      "y=-0.611121x+(3.490182)\n",
      "MeanSquaredError:  0.0512542257394\n"
     ]
    },
    {
     "data": {
      "image/png": "[encoded data removed]",
      "text/plain": [
       "<matplotlib.figure.Figure at 0x11354bad0>"
      ]
     },
     "metadata": {},
     "output_type": "display_data"
    },
    {
     "name": "stdout",
     "output_type": "stream",
     "text": [
      "y=-0.647810x+(3.635166)\n",
      "MeanSquaredError:  0.061745874625\n"
     ]
    },
    {
     "data": {
      "image/png": "[encoded data removed]",
      "text/plain": [
       "<matplotlib.figure.Figure at 0x113325990>"
      ]
     },
     "metadata": {},
     "output_type": "display_data"
    }
   ],
   "source": [
    "for years in DroppedIMtsv.columns:\n",
    "    xDataLog=[]\n",
    "    yDataLog=[]\n",
    "    \n",
    "    #TODO\n",
    "    for rowName in DroppedIMtsv.index:\n",
    "        if rowName in resulttsv.index:\n",
    "            if not np.isnan(DroppedIMtsv.get_value(rowName, years)):\n",
    "                if not np.isnan(resulttsv.get_value(rowName, years)):\n",
    "                    xDataLog.append(resulttsv.get_value(rowName, years))\n",
    "                    yDataLog.append(DroppedIMtsv.get_value(rowName, years))\n",
    "                    \n",
    "                    \n",
    "    xDataLog = np.log10(xDataLog)\n",
    "    yDataLog = np.log10(yDataLog)\n",
    "    plot_2D_trendline(xDataLog, yDataLog, x_label='GDP per Cap(Log Scale)', y_label='Infant Mortality (Log Scale)', title=years+\" (Log Scale)\")\n",
    "    "
   ]
  },
  {
   "cell_type": "markdown",
   "metadata": {
    "collapsed": false
   },
   "source": [
    "# Scikit-Learn\n",
    "* Scikit-learn is the most common python library in machine learning.\n",
    "* Let's port our work from matplotlib to scikit-learn.\n",
    "* However, not all plots will be handled. We will focus on the most recent data, 2010-2015.\n",
    "\n",
    "<b>URL:</b> http://scikit-learn.org/\n",
    "<br/><b>Install guide:</b> http://scikit-learn.org/stable/install.html"
   ]
  },
  {
   "cell_type": "markdown",
   "metadata": {},
   "source": [
    "## Problem 5. Import scikit-learn\n",
    "- If the installation of the library is complete, this code will run without any problems."
   ]
  },
  {
   "cell_type": "code",
   "execution_count": 19,
   "metadata": {
    "collapsed": true
   },
   "outputs": [],
   "source": [
    "from sklearn.linear_model import LinearRegression\n",
    "from sklearn.metrics import mean_squared_error"
   ]
  },
  {
   "cell_type": "markdown",
   "metadata": {},
   "source": [
    "## Problem 5-1. Applying the linear regression model of scikit-learn to our data\n",
    "- Information about the various model api is available at the following url:<br/>&nbsp;&nbsp;&nbsp;&nbsp;&nbsp;&nbsp;http://scikit-learn.org/stable/modules/classes.html\n",
    "- *Apply regression model for 2010-2015 data only.*\n",
    "- Please print MSE of implemented model."
   ]
  },
  {
   "cell_type": "code",
   "execution_count": 20,
   "metadata": {
    "collapsed": false
   },
   "outputs": [
    {
     "name": "stdout",
     "output_type": "stream",
     "text": [
      "MSE - scikit learn linear regression:  449.286688019\n"
     ]
    }
   ],
   "source": [
    "lr = LinearRegression()\n",
    "\n",
    "years = DroppedIMtsv.columns[-1]\n",
    "xData=[]\n",
    "yData=[]\n",
    "\n",
    "#TODO\n",
    "for rowName in DroppedIMtsv.index:\n",
    "        if rowName in resulttsv.index:\n",
    "            if not np.isnan(DroppedIMtsv.get_value(rowName, years)):\n",
    "                if not np.isnan(resulttsv.get_value(rowName, years)):\n",
    "                    xData.append(resulttsv.get_value(rowName, years))\n",
    "                    yData.append(DroppedIMtsv.get_value(rowName, years))\n",
    "                    \n",
    "xData = np.array(xData)\n",
    "yData = np.array(yData)\n",
    "\n",
    "xData = [\n",
    "    [val] for val in xData\n",
    "]\n",
    "yData = [\n",
    "    [val] for val in yData\n",
    "]\n",
    "\n",
    "lr.fit(xData, yData)\n",
    "print \"MSE - scikit learn linear regression: \", mean_squared_error(lr.predict(xData), yData)"
   ]
  },
  {
   "cell_type": "markdown",
   "metadata": {},
   "source": [
    "## Problem 5-2. Expanded to polynomial regression\n",
    "- Let's look at the performance change by changing the degree in 0-9.\n",
    "- Normalization should also be followed.\n",
    "\n",
    "*hint: You can use an additional API to implement the polynomial regression model.*"
   ]
  },
  {
   "cell_type": "code",
   "execution_count": 21,
   "metadata": {
    "collapsed": false
   },
   "outputs": [
    {
     "name": "stdout",
     "output_type": "stream",
     "text": [
      "MSE - poly-linear regression; degree= 0 :  632.561941032\n",
      "MSE - poly-linear regression; degree= 1 :  449.286688019\n",
      "MSE - poly-linear regression; degree= 2 :  364.032958026\n",
      "MSE - poly-linear regression; degree= 3 :  302.116977901\n",
      "MSE - poly-linear regression; degree= 4 :  430.843072385\n",
      "MSE - poly-linear regression; degree= 5 :  490.378180982\n",
      "MSE - poly-linear regression; degree= 6 :  519.214030855\n",
      "MSE - poly-linear regression; degree= 7 :  539.789402831\n",
      "MSE - poly-linear regression; degree= 8 :  558.857032159\n",
      "MSE - poly-linear regression; degree= 9 :  577.147404813\n"
     ]
    }
   ],
   "source": [
    "#TODO: import api(s) to implement the polynomial regression model\n",
    "from sklearn.preprocessing import PolynomialFeatures\n",
    "from sklearn.pipeline import make_pipeline\n",
    "\n",
    "for deg in range(10):\n",
    "    PolynomialRegression = make_pipeline(PolynomialFeatures(deg), LinearRegression())\n",
    "\n",
    "    plr = PolynomialRegression.fit(xData, yData)\n",
    "    print \"MSE - poly-linear regression; degree=\", deg,\": \", mean_squared_error(plr.predict(xData), yData)"
   ]
  },
  {
   "cell_type": "markdown",
   "metadata": {},
   "source": [
    "## Problem 5-3. The change in performance according to the degree can be confirmed. Is performance improvement reliable? Describe the problem of current method."
   ]
  },
  {
   "cell_type": "raw",
   "metadata": {},
   "source": [
    "- degree가 증가함에 따라 어느정도의 성능 향상은 있었다\n",
    "- 하지만 결과값으로 볼때 degree가 특정 이상 증가할 경우 다시 성능이 나빠지기 시작\n",
    "- degree가 증가하게 되면 training set에 overfitting하게 된다\n",
    "- 따라서 더 많은 data를 주어서 이문제를 해결해야한다"
   ]
  },
  {
   "cell_type": "markdown",
   "metadata": {},
   "source": [
    "## Problem 5-4. To solve the problem mentioned above, you must divide the train set and the test set. Try experimenting by assigning 20% of the total sample to a test set.\n",
    "- Please print MSEs of implemented model, for both of training and test set.\n",
    "- Degree is the same as the previous experiment, 0-9.\n",
    "\n",
    "*hint: Implementing it yourself can be a good experience, but using scikit-learn would make it easy to solve this problem.*"
   ]
  },
  {
   "cell_type": "code",
   "execution_count": 22,
   "metadata": {
    "collapsed": false
   },
   "outputs": [
    {
     "name": "stdout",
     "output_type": "stream",
     "text": [
      "MSE - sklearn poly-linear regression; degree= 0 \n",
      "\ttrain:  643.028004683 ,\tval:  591.667820937\n",
      "MSE - sklearn poly-linear regression; degree= 1 \n",
      "\ttrain:  438.650843614 ,\tval:  499.895187737\n",
      "MSE - sklearn poly-linear regression; degree= 2 \n",
      "\ttrain:  337.0643101 ,\tval:  515.852355032\n",
      "MSE - sklearn poly-linear regression; degree= 3 \n",
      "\ttrain:  264.389329706 ,\tval:  559.743481635\n",
      "MSE - sklearn poly-linear regression; degree= 4 \n",
      "\ttrain:  396.684066239 ,\tval:  1395.82709051\n",
      "MSE - sklearn poly-linear regression; degree= 5 \n",
      "\ttrain:  475.736233238 ,\tval:  2050.70084282\n",
      "MSE - sklearn poly-linear regression; degree= 6 \n",
      "\ttrain:  512.823325803 ,\tval:  2971.75686201\n",
      "MSE - sklearn poly-linear regression; degree= 7 \n",
      "\ttrain:  534.366323139 ,\tval:  5947.42942722\n",
      "MSE - sklearn poly-linear regression; degree= 8 \n",
      "\ttrain:  550.406381212 ,\tval:  15082.9273559\n",
      "MSE - sklearn poly-linear regression; degree= 9 \n",
      "\ttrain:  564.663953407 ,\tval:  39906.169364\n"
     ]
    },
    {
     "name": "stderr",
     "output_type": "stream",
     "text": [
      "//anaconda/lib/python2.7/site-packages/sklearn/cross_validation.py:44: DeprecationWarning: This module was deprecated in version 0.18 in favor of the model_selection module into which all the refactored classes and functions are moved. Also note that the interface of the new CV iterators are different from that of this module. This module will be removed in 0.20.\n",
      "  \"This module will be removed in 0.20.\", DeprecationWarning)\n"
     ]
    }
   ],
   "source": [
    "#TODO: import API for deviding training and test set\n",
    "from sklearn.cross_validation import train_test_split\n",
    "\n",
    "x_train, x_val, y_train, y_val = train_test_split(xData, yData, test_size=0.2)\n",
    "\n",
    "for deg in range(10):\n",
    "    PolynomialRegression = make_pipeline(PolynomialFeatures(deg), LinearRegression())\n",
    "\n",
    "    plr = PolynomialRegression.fit(x_train, y_train)\n",
    "    print \"MSE - sklearn poly-linear regression; degree=\", deg,\"\\n\\ttrain: \", mean_squared_error(plr.predict(x_train), y_train), \",\\tval: \", mean_squared_error(plr.predict(x_val), y_val)\n"
   ]
  },
  {
   "cell_type": "markdown",
   "metadata": {
    "collapsed": true
   },
   "source": [
    "## Problem 6. We currently use only one feature called GDP per capita. If you want to improve performance, you will need to add features. Present other valid features and describe why you think so.\n",
    "- You only need to collect the URL. You do not need to collect data or conduct further experiments."
   ]
  },
  {
   "cell_type": "markdown",
   "metadata": {
    "collapsed": true
   },
   "source": [
    "http://www.index.go.kr/potal/main/EachDtlPageDetail.do?idx_cd=2769"
   ]
  }
 ],
 "metadata": {
  "anaconda-cloud": {},
  "kernelspec": {
   "display_name": "Python 2",
   "language": "python",
   "name": "python2"
  },
  "language_info": {
   "codemirror_mode": {
    "name": "ipython",
    "version": 2
   },
   "file_extension": ".py",
   "mimetype": "text/x-python",
   "name": "python",
   "nbconvert_exporter": "python",
   "pygments_lexer": "ipython2",
   "version": "2.7.13"
  }
 },
 "nbformat": 4,
 "nbformat_minor": 0
}
